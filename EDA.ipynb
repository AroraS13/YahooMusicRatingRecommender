{
 "cells": [
  {
   "cell_type": "code",
   "execution_count": 1,
   "id": "51a1ecf2",
   "metadata": {},
   "outputs": [],
   "source": [
    "import pandas as pd\n",
    "import numpy as np"
   ]
  },
  {
   "cell_type": "code",
   "execution_count": 2,
   "id": "5b586c8d",
   "metadata": {},
   "outputs": [],
   "source": [
    "songs = pd.read_csv('song-attributes.txt', sep=\"\\t\", header=None)\n",
    "songs = songs.rename(columns={0:'song_id', 1:'album_id', 2:'artist_id', 3:'genre_id'})"
   ]
  },
  {
   "cell_type": "code",
   "execution_count": 3,
   "id": "0f0e0f8c",
   "metadata": {},
   "outputs": [],
   "source": [
    "genres = pd.read_csv('genre-hierarchy.txt', sep=\"\\t\", header=None)\n",
    "genres = genres.rename(columns={0:'genre_id', 1:'parent_genre', 2:'level', 3:'genre_name'})"
   ]
  },
  {
   "cell_type": "code",
   "execution_count": 4,
   "id": "bdd173c1",
   "metadata": {},
   "outputs": [],
   "source": [
    "trdata = pd.read_csv('train_0.txt', sep=\"\\t\", header=None)\n",
    "trdata = trdata.rename(columns={0:'user_id', 1:'song_id', 2:'rating'})"
   ]
  },
  {
   "cell_type": "code",
   "execution_count": 5,
   "id": "7dbdc5b4",
   "metadata": {},
   "outputs": [
    {
     "data": {
      "text/html": [
       "<div>\n",
       "<style scoped>\n",
       "    .dataframe tbody tr th:only-of-type {\n",
       "        vertical-align: middle;\n",
       "    }\n",
       "\n",
       "    .dataframe tbody tr th {\n",
       "        vertical-align: top;\n",
       "    }\n",
       "\n",
       "    .dataframe thead th {\n",
       "        text-align: right;\n",
       "    }\n",
       "</style>\n",
       "<table border=\"1\" class=\"dataframe\">\n",
       "  <thead>\n",
       "    <tr style=\"text-align: right;\">\n",
       "      <th></th>\n",
       "      <th>user_id</th>\n",
       "      <th>song_id</th>\n",
       "      <th>rating</th>\n",
       "      <th>album_id</th>\n",
       "      <th>artist_id</th>\n",
       "      <th>genre_id</th>\n",
       "      <th>parent_genre</th>\n",
       "      <th>level</th>\n",
       "      <th>genre_name</th>\n",
       "    </tr>\n",
       "  </thead>\n",
       "  <tbody>\n",
       "    <tr>\n",
       "      <th>0</th>\n",
       "      <td>0</td>\n",
       "      <td>166</td>\n",
       "      <td>5</td>\n",
       "      <td>5303</td>\n",
       "      <td>7231</td>\n",
       "      <td>0</td>\n",
       "      <td>0</td>\n",
       "      <td>1</td>\n",
       "      <td>Unknown</td>\n",
       "    </tr>\n",
       "    <tr>\n",
       "      <th>1</th>\n",
       "      <td>2941</td>\n",
       "      <td>166</td>\n",
       "      <td>5</td>\n",
       "      <td>5303</td>\n",
       "      <td>7231</td>\n",
       "      <td>0</td>\n",
       "      <td>0</td>\n",
       "      <td>1</td>\n",
       "      <td>Unknown</td>\n",
       "    </tr>\n",
       "    <tr>\n",
       "      <th>2</th>\n",
       "      <td>3476</td>\n",
       "      <td>166</td>\n",
       "      <td>5</td>\n",
       "      <td>5303</td>\n",
       "      <td>7231</td>\n",
       "      <td>0</td>\n",
       "      <td>0</td>\n",
       "      <td>1</td>\n",
       "      <td>Unknown</td>\n",
       "    </tr>\n",
       "    <tr>\n",
       "      <th>3</th>\n",
       "      <td>3748</td>\n",
       "      <td>166</td>\n",
       "      <td>1</td>\n",
       "      <td>5303</td>\n",
       "      <td>7231</td>\n",
       "      <td>0</td>\n",
       "      <td>0</td>\n",
       "      <td>1</td>\n",
       "      <td>Unknown</td>\n",
       "    </tr>\n",
       "    <tr>\n",
       "      <th>4</th>\n",
       "      <td>4086</td>\n",
       "      <td>166</td>\n",
       "      <td>2</td>\n",
       "      <td>5303</td>\n",
       "      <td>7231</td>\n",
       "      <td>0</td>\n",
       "      <td>0</td>\n",
       "      <td>1</td>\n",
       "      <td>Unknown</td>\n",
       "    </tr>\n",
       "  </tbody>\n",
       "</table>\n",
       "</div>"
      ],
      "text/plain": [
       "   user_id  song_id  rating  album_id  artist_id  genre_id  parent_genre  \\\n",
       "0        0      166       5      5303       7231         0             0   \n",
       "1     2941      166       5      5303       7231         0             0   \n",
       "2     3476      166       5      5303       7231         0             0   \n",
       "3     3748      166       1      5303       7231         0             0   \n",
       "4     4086      166       2      5303       7231         0             0   \n",
       "\n",
       "   level genre_name  \n",
       "0      1    Unknown  \n",
       "1      1    Unknown  \n",
       "2      1    Unknown  \n",
       "3      1    Unknown  \n",
       "4      1    Unknown  "
      ]
     },
     "execution_count": 5,
     "metadata": {},
     "output_type": "execute_result"
    }
   ],
   "source": [
    "df = trdata.merge(songs, on='song_id').merge(genres, on='genre_id')\n",
    "df.head()"
   ]
  },
  {
   "cell_type": "code",
   "execution_count": 10,
   "id": "9c71dccd",
   "metadata": {},
   "outputs": [
    {
     "data": {
      "text/plain": [
       "(76344627, 9)"
      ]
     },
     "execution_count": 10,
     "metadata": {},
     "output_type": "execute_result"
    }
   ],
   "source": [
    "df.shape"
   ]
  },
  {
   "cell_type": "code",
   "execution_count": 12,
   "id": "bf3fc7cd",
   "metadata": {},
   "outputs": [
    {
     "data": {
      "text/plain": [
       "user_id         0\n",
       "song_id         0\n",
       "rating          0\n",
       "album_id        0\n",
       "artist_id       0\n",
       "genre_id        0\n",
       "parent_genre    0\n",
       "level           0\n",
       "genre_name      0\n",
       "dtype: int64"
      ]
     },
     "execution_count": 12,
     "metadata": {},
     "output_type": "execute_result"
    }
   ],
   "source": [
    "df.isnull().sum()"
   ]
  },
  {
   "cell_type": "code",
   "execution_count": 23,
   "id": "7e194835",
   "metadata": {},
   "outputs": [
    {
     "data": {
      "text/plain": [
       "array([1, 2, 3])"
      ]
     },
     "execution_count": 23,
     "metadata": {},
     "output_type": "execute_result"
    }
   ],
   "source": [
    "df['level'].unique()"
   ]
  },
  {
   "cell_type": "markdown",
   "id": "a238e08b",
   "metadata": {},
   "source": [
    "# Summary Statistics"
   ]
  },
  {
   "cell_type": "code",
   "execution_count": 24,
   "id": "55ec7d98",
   "metadata": {},
   "outputs": [
    {
     "data": {
      "text/html": [
       "<div>\n",
       "<style scoped>\n",
       "    .dataframe tbody tr th:only-of-type {\n",
       "        vertical-align: middle;\n",
       "    }\n",
       "\n",
       "    .dataframe tbody tr th {\n",
       "        vertical-align: top;\n",
       "    }\n",
       "\n",
       "    .dataframe thead th {\n",
       "        text-align: right;\n",
       "    }\n",
       "</style>\n",
       "<table border=\"1\" class=\"dataframe\">\n",
       "  <thead>\n",
       "    <tr style=\"text-align: right;\">\n",
       "      <th></th>\n",
       "      <th>rating</th>\n",
       "      <th>genre_id</th>\n",
       "      <th>parent_genre</th>\n",
       "      <th>level</th>\n",
       "    </tr>\n",
       "  </thead>\n",
       "  <tbody>\n",
       "    <tr>\n",
       "      <th>count</th>\n",
       "      <td>7.634463e+07</td>\n",
       "      <td>7.634463e+07</td>\n",
       "      <td>7.634463e+07</td>\n",
       "      <td>7.634463e+07</td>\n",
       "    </tr>\n",
       "    <tr>\n",
       "      <th>mean</th>\n",
       "      <td>3.153490e+00</td>\n",
       "      <td>1.677832e+01</td>\n",
       "      <td>1.670814e+01</td>\n",
       "      <td>1.013341e+00</td>\n",
       "    </tr>\n",
       "    <tr>\n",
       "      <th>std</th>\n",
       "      <td>1.599536e+00</td>\n",
       "      <td>4.307285e+01</td>\n",
       "      <td>4.289884e+01</td>\n",
       "      <td>1.266558e-01</td>\n",
       "    </tr>\n",
       "    <tr>\n",
       "      <th>min</th>\n",
       "      <td>1.000000e+00</td>\n",
       "      <td>0.000000e+00</td>\n",
       "      <td>0.000000e+00</td>\n",
       "      <td>1.000000e+00</td>\n",
       "    </tr>\n",
       "    <tr>\n",
       "      <th>25%</th>\n",
       "      <td>1.000000e+00</td>\n",
       "      <td>0.000000e+00</td>\n",
       "      <td>0.000000e+00</td>\n",
       "      <td>1.000000e+00</td>\n",
       "    </tr>\n",
       "    <tr>\n",
       "      <th>50%</th>\n",
       "      <td>3.000000e+00</td>\n",
       "      <td>0.000000e+00</td>\n",
       "      <td>0.000000e+00</td>\n",
       "      <td>1.000000e+00</td>\n",
       "    </tr>\n",
       "    <tr>\n",
       "      <th>75%</th>\n",
       "      <td>5.000000e+00</td>\n",
       "      <td>0.000000e+00</td>\n",
       "      <td>0.000000e+00</td>\n",
       "      <td>1.000000e+00</td>\n",
       "    </tr>\n",
       "    <tr>\n",
       "      <th>max</th>\n",
       "      <td>5.000000e+00</td>\n",
       "      <td>2.150000e+02</td>\n",
       "      <td>2.110000e+02</td>\n",
       "      <td>3.000000e+00</td>\n",
       "    </tr>\n",
       "  </tbody>\n",
       "</table>\n",
       "</div>"
      ],
      "text/plain": [
       "             rating      genre_id  parent_genre         level\n",
       "count  7.634463e+07  7.634463e+07  7.634463e+07  7.634463e+07\n",
       "mean   3.153490e+00  1.677832e+01  1.670814e+01  1.013341e+00\n",
       "std    1.599536e+00  4.307285e+01  4.289884e+01  1.266558e-01\n",
       "min    1.000000e+00  0.000000e+00  0.000000e+00  1.000000e+00\n",
       "25%    1.000000e+00  0.000000e+00  0.000000e+00  1.000000e+00\n",
       "50%    3.000000e+00  0.000000e+00  0.000000e+00  1.000000e+00\n",
       "75%    5.000000e+00  0.000000e+00  0.000000e+00  1.000000e+00\n",
       "max    5.000000e+00  2.150000e+02  2.110000e+02  3.000000e+00"
      ]
     },
     "execution_count": 24,
     "metadata": {},
     "output_type": "execute_result"
    }
   ],
   "source": [
    "df[['rating', 'genre_id', 'parent_genre', 'level']].describe()"
   ]
  },
  {
   "cell_type": "markdown",
   "id": "0bdc5212",
   "metadata": {},
   "source": [
    "Observations:<br>\n",
    "Average rating is a bit higher than 3 --> maybe there are more highly rated songs in this data\n",
    "<br>\n",
    "<br>\n",
    "Genre columns seem to have a max of around 215 meaning there are over 200 genres to choose from however the average genre number seems to be closer to 16. The standard deviation is also very high indicating there is a large variance in the genre selection of the songs rated\n",
    "<br>\n",
    "<br>\n",
    "Level column has a max of 3 indicating that there are 3 different levels assigned to every song but the first 3 quartiles fall into the 1 bucket --> majority of songs are in the first level "
   ]
  },
  {
   "cell_type": "code",
   "execution_count": 28,
   "id": "023c4e71",
   "metadata": {},
   "outputs": [
    {
     "data": {
      "text/plain": [
       "<AxesSubplot:>"
      ]
     },
     "execution_count": 28,
     "metadata": {},
     "output_type": "execute_result"
    },
    {
     "data": {
      "image/png": "[encoded data removed]",
      "text/plain": [
       "<Figure size 432x288 with 1 Axes>"
      ]
     },
     "metadata": {
      "needs_background": "light"
     },
     "output_type": "display_data"
    }
   ],
   "source": [
    "df['rating'].hist()"
   ]
  },
  {
   "cell_type": "markdown",
   "id": "dece21e9",
   "metadata": {},
   "source": [
    "The distribution of ratings given by users in this dataset are fairly variated with similar counts in the 2-4 range and peaks at 1 and 4, showing that users tend to rate songs either very poorly or highly. This indicates that a good default metric for our model if that user has not rated a song yet, would be to give either a 1 or 5 depending on whether that user tends to rate more songs poorly or highly. "
   ]
  },
  {
   "cell_type": "code",
   "execution_count": 30,
   "id": "3db785fc",
   "metadata": {},
   "outputs": [
    {
     "data": {
      "text/plain": [
       "<AxesSubplot:>"
      ]
     },
     "execution_count": 30,
     "metadata": {},
     "output_type": "execute_result"
    },
    {
     "data": {
      "image/png": "[encoded data removed]",
      "text/plain": [
       "<Figure size 432x288 with 1 Axes>"
      ]
     },
     "metadata": {
      "needs_background": "light"
     },
     "output_type": "display_data"
    }
   ],
   "source": [
    "df['level'].hist()"
   ]
  },
  {
   "cell_type": "markdown",
   "id": "2d6086c5",
   "metadata": {},
   "source": [
    "The distribution of level is a tri modal distribution with a comparitively higher peak at level 1. This shows that most songs are attached to a single genre (probably niche) and there are only a few songs with parent genres in the level 2 and 3 hierarchies. This indicates that the feature to use in our model should be genre_id instead of parent_genre if many songs don't have a parent genre "
   ]
  },
  {
   "cell_type": "code",
   "execution_count": 11,
   "id": "bca816ee",
   "metadata": {},
   "outputs": [
    {
     "data": {
      "text/plain": [
       "0.8579403760791182"
      ]
     },
     "execution_count": 11,
     "metadata": {},
     "output_type": "execute_result"
    }
   ],
   "source": [
    "df[df['genre_name']=='Unknown'].shape[0]/df.shape[0]"
   ]
  },
  {
   "cell_type": "code",
   "execution_count": 14,
   "id": "43ea3d0b",
   "metadata": {},
   "outputs": [
    {
     "data": {
      "text/plain": [
       "0.8579403760791182"
      ]
     },
     "execution_count": 14,
     "metadata": {},
     "output_type": "execute_result"
    }
   ],
   "source": [
    "df[df['genre_id']==0].shape[0]/df.shape[0]"
   ]
  },
  {
   "cell_type": "markdown",
   "id": "9232d2be",
   "metadata": {},
   "source": [
    "Around 86% of the genre names are unknown indicating that this feature may not be a great indicator of predicting accurate ratings for a song and user"
   ]
  },
  {
   "cell_type": "code",
   "execution_count": 6,
   "id": "1151c339",
   "metadata": {},
   "outputs": [
    {
     "data": {
      "text/html": [
       "<div>\n",
       "<style scoped>\n",
       "    .dataframe tbody tr th:only-of-type {\n",
       "        vertical-align: middle;\n",
       "    }\n",
       "\n",
       "    .dataframe tbody tr th {\n",
       "        vertical-align: top;\n",
       "    }\n",
       "\n",
       "    .dataframe thead th {\n",
       "        text-align: right;\n",
       "    }\n",
       "</style>\n",
       "<table border=\"1\" class=\"dataframe\">\n",
       "  <thead>\n",
       "    <tr style=\"text-align: right;\">\n",
       "      <th></th>\n",
       "      <th>rating</th>\n",
       "      <th>level</th>\n",
       "    </tr>\n",
       "  </thead>\n",
       "  <tbody>\n",
       "    <tr>\n",
       "      <th>rating</th>\n",
       "      <td>1.000000</td>\n",
       "      <td>0.004521</td>\n",
       "    </tr>\n",
       "    <tr>\n",
       "      <th>level</th>\n",
       "      <td>0.004521</td>\n",
       "      <td>1.000000</td>\n",
       "    </tr>\n",
       "  </tbody>\n",
       "</table>\n",
       "</div>"
      ],
      "text/plain": [
       "          rating     level\n",
       "rating  1.000000  0.004521\n",
       "level   0.004521  1.000000"
      ]
     },
     "execution_count": 6,
     "metadata": {},
     "output_type": "execute_result"
    }
   ],
   "source": [
    "df[['rating', 'level']].corr()"
   ]
  },
  {
   "cell_type": "code",
   "execution_count": 6,
   "id": "9979dde4",
   "metadata": {},
   "outputs": [
    {
     "data": {
      "text/html": [
       "<div>\n",
       "<style scoped>\n",
       "    .dataframe tbody tr th:only-of-type {\n",
       "        vertical-align: middle;\n",
       "    }\n",
       "\n",
       "    .dataframe tbody tr th {\n",
       "        vertical-align: top;\n",
       "    }\n",
       "\n",
       "    .dataframe thead th {\n",
       "        text-align: right;\n",
       "    }\n",
       "</style>\n",
       "<table border=\"1\" class=\"dataframe\">\n",
       "  <thead>\n",
       "    <tr style=\"text-align: right;\">\n",
       "      <th></th>\n",
       "      <th>rating</th>\n",
       "      <th>genre_id</th>\n",
       "    </tr>\n",
       "  </thead>\n",
       "  <tbody>\n",
       "    <tr>\n",
       "      <th>rating</th>\n",
       "      <td>1.000000</td>\n",
       "      <td>0.020506</td>\n",
       "    </tr>\n",
       "    <tr>\n",
       "      <th>genre_id</th>\n",
       "      <td>0.020506</td>\n",
       "      <td>1.000000</td>\n",
       "    </tr>\n",
       "  </tbody>\n",
       "</table>\n",
       "</div>"
      ],
      "text/plain": [
       "            rating  genre_id\n",
       "rating    1.000000  0.020506\n",
       "genre_id  0.020506  1.000000"
      ]
     },
     "execution_count": 6,
     "metadata": {},
     "output_type": "execute_result"
    }
   ],
   "source": [
    "df[['rating', 'genre_id']].corr()"
   ]
  },
  {
   "cell_type": "markdown",
   "id": "0671b37a",
   "metadata": {},
   "source": [
    "No significant correlations -> model will have to rely on historical data per user to accurate predict ratings "
   ]
  },
  {
   "cell_type": "code",
   "execution_count": 25,
   "id": "4e246ec9",
   "metadata": {},
   "outputs": [
    {
     "data": {
      "text/plain": [
       "Lounge                99\n",
       "Indie Pop            115\n",
       "Minimal Techno       158\n",
       "Country Comedy       281\n",
       "New Wave             336\n",
       "Orchestral           619\n",
       "Traditional Folk     707\n",
       "Hard Rock           1056\n",
       "Gospel              1469\n",
       "Holiday             2337\n",
       "Name: genre_name, dtype: int64"
      ]
     },
     "execution_count": 25,
     "metadata": {},
     "output_type": "execute_result"
    }
   ],
   "source": [
    "df['genre_name'].value_counts().sort_values()[:10]"
   ]
  },
  {
   "cell_type": "code",
   "execution_count": 26,
   "id": "06128ec1",
   "metadata": {},
   "outputs": [
    {
     "data": {
      "text/plain": [
       "Unknown               65499138\n",
       "Rock                   5293264\n",
       "Pop                    1744753\n",
       "R&B                    1295667\n",
       "Country                 567461\n",
       "Classic Rock            355190\n",
       "Rap                     338045\n",
       "Comedy                  228634\n",
       "Reggae                  104881\n",
       "Adult Contemporary       84641\n",
       "Name: genre_name, dtype: int64"
      ]
     },
     "execution_count": 26,
     "metadata": {},
     "output_type": "execute_result"
    }
   ],
   "source": [
    "df['genre_name'].value_counts().sort_values(ascending=False)[:10]"
   ]
  },
  {
   "cell_type": "code",
   "execution_count": 15,
   "id": "d57473a8",
   "metadata": {},
   "outputs": [
    {
     "data": {
      "text/html": [
       "<div>\n",
       "<style scoped>\n",
       "    .dataframe tbody tr th:only-of-type {\n",
       "        vertical-align: middle;\n",
       "    }\n",
       "\n",
       "    .dataframe tbody tr th {\n",
       "        vertical-align: top;\n",
       "    }\n",
       "\n",
       "    .dataframe thead th {\n",
       "        text-align: right;\n",
       "    }\n",
       "</style>\n",
       "<table border=\"1\" class=\"dataframe\">\n",
       "  <thead>\n",
       "    <tr style=\"text-align: right;\">\n",
       "      <th></th>\n",
       "      <th>user_id</th>\n",
       "      <th>song_id</th>\n",
       "      <th>rating</th>\n",
       "      <th>album_id</th>\n",
       "      <th>artist_id</th>\n",
       "      <th>genre_id</th>\n",
       "      <th>parent_genre</th>\n",
       "      <th>level</th>\n",
       "      <th>genre_name</th>\n",
       "    </tr>\n",
       "  </thead>\n",
       "  <tbody>\n",
       "    <tr>\n",
       "      <th>0</th>\n",
       "      <td>0</td>\n",
       "      <td>166</td>\n",
       "      <td>5</td>\n",
       "      <td>5303</td>\n",
       "      <td>7231</td>\n",
       "      <td>0</td>\n",
       "      <td>0</td>\n",
       "      <td>1</td>\n",
       "      <td>Unknown</td>\n",
       "    </tr>\n",
       "    <tr>\n",
       "      <th>1</th>\n",
       "      <td>2941</td>\n",
       "      <td>166</td>\n",
       "      <td>5</td>\n",
       "      <td>5303</td>\n",
       "      <td>7231</td>\n",
       "      <td>0</td>\n",
       "      <td>0</td>\n",
       "      <td>1</td>\n",
       "      <td>Unknown</td>\n",
       "    </tr>\n",
       "    <tr>\n",
       "      <th>2</th>\n",
       "      <td>3476</td>\n",
       "      <td>166</td>\n",
       "      <td>5</td>\n",
       "      <td>5303</td>\n",
       "      <td>7231</td>\n",
       "      <td>0</td>\n",
       "      <td>0</td>\n",
       "      <td>1</td>\n",
       "      <td>Unknown</td>\n",
       "    </tr>\n",
       "    <tr>\n",
       "      <th>5</th>\n",
       "      <td>5391</td>\n",
       "      <td>166</td>\n",
       "      <td>5</td>\n",
       "      <td>5303</td>\n",
       "      <td>7231</td>\n",
       "      <td>0</td>\n",
       "      <td>0</td>\n",
       "      <td>1</td>\n",
       "      <td>Unknown</td>\n",
       "    </tr>\n",
       "    <tr>\n",
       "      <th>6</th>\n",
       "      <td>5955</td>\n",
       "      <td>166</td>\n",
       "      <td>5</td>\n",
       "      <td>5303</td>\n",
       "      <td>7231</td>\n",
       "      <td>0</td>\n",
       "      <td>0</td>\n",
       "      <td>1</td>\n",
       "      <td>Unknown</td>\n",
       "    </tr>\n",
       "  </tbody>\n",
       "</table>\n",
       "</div>"
      ],
      "text/plain": [
       "   user_id  song_id  rating  album_id  artist_id  genre_id  parent_genre  \\\n",
       "0        0      166       5      5303       7231         0             0   \n",
       "1     2941      166       5      5303       7231         0             0   \n",
       "2     3476      166       5      5303       7231         0             0   \n",
       "5     5391      166       5      5303       7231         0             0   \n",
       "6     5955      166       5      5303       7231         0             0   \n",
       "\n",
       "   level genre_name  \n",
       "0      1    Unknown  \n",
       "1      1    Unknown  \n",
       "2      1    Unknown  \n",
       "5      1    Unknown  \n",
       "6      1    Unknown  "
      ]
     },
     "execution_count": 15,
     "metadata": {},
     "output_type": "execute_result"
    }
   ],
   "source": [
    "high = df[df['rating']==5]\n",
    "high.head()"
   ]
  },
  {
   "cell_type": "code",
   "execution_count": 17,
   "id": "a3056a9e",
   "metadata": {},
   "outputs": [
    {
     "data": {
      "text/plain": [
       "Country Comedy       20\n",
       "Indie Pop            21\n",
       "Minimal Techno       23\n",
       "Lounge               39\n",
       "New Wave             52\n",
       "Traditional Folk    105\n",
       "Orchestral          205\n",
       "Gospel              237\n",
       "Hard Rock           423\n",
       "Funk                438\n",
       "Name: genre_name, dtype: int64"
      ]
     },
     "execution_count": 17,
     "metadata": {},
     "output_type": "execute_result"
    }
   ],
   "source": [
    "high['genre_name'].value_counts().sort_values()[:10]"
   ]
  },
  {
   "cell_type": "code",
   "execution_count": 18,
   "id": "9e73ebbe",
   "metadata": {},
   "outputs": [
    {
     "data": {
      "text/plain": [
       "Unknown         20455849\n",
       "Rock             1680086\n",
       "Pop               521423\n",
       "R&B               445233\n",
       "Country           192394\n",
       "Rap               107632\n",
       "Classic Rock      106113\n",
       "Comedy             84110\n",
       "Reggae             45212\n",
       "Folk               29137\n",
       "Name: genre_name, dtype: int64"
      ]
     },
     "execution_count": 18,
     "metadata": {},
     "output_type": "execute_result"
    }
   ],
   "source": [
    "high['genre_name'].value_counts().sort_values(ascending=False)[:10]"
   ]
  },
  {
   "cell_type": "code",
   "execution_count": 21,
   "id": "9cd5db43",
   "metadata": {},
   "outputs": [
    {
     "data": {
      "text/plain": [
       "1    23647130\n",
       "2      251172\n",
       "3       38143\n",
       "Name: level, dtype: int64"
      ]
     },
     "execution_count": 21,
     "metadata": {},
     "output_type": "execute_result"
    }
   ],
   "source": [
    "high['level'].value_counts()"
   ]
  },
  {
   "cell_type": "code",
   "execution_count": 22,
   "id": "ee15cb4b",
   "metadata": {},
   "outputs": [
    {
     "data": {
      "text/html": [
       "<div>\n",
       "<style scoped>\n",
       "    .dataframe tbody tr th:only-of-type {\n",
       "        vertical-align: middle;\n",
       "    }\n",
       "\n",
       "    .dataframe tbody tr th {\n",
       "        vertical-align: top;\n",
       "    }\n",
       "\n",
       "    .dataframe thead th {\n",
       "        text-align: right;\n",
       "    }\n",
       "</style>\n",
       "<table border=\"1\" class=\"dataframe\">\n",
       "  <thead>\n",
       "    <tr style=\"text-align: right;\">\n",
       "      <th></th>\n",
       "      <th>user_id</th>\n",
       "      <th>song_id</th>\n",
       "      <th>rating</th>\n",
       "      <th>album_id</th>\n",
       "      <th>artist_id</th>\n",
       "      <th>genre_id</th>\n",
       "      <th>parent_genre</th>\n",
       "      <th>level</th>\n",
       "      <th>genre_name</th>\n",
       "    </tr>\n",
       "  </thead>\n",
       "  <tbody>\n",
       "    <tr>\n",
       "      <th>3</th>\n",
       "      <td>3748</td>\n",
       "      <td>166</td>\n",
       "      <td>1</td>\n",
       "      <td>5303</td>\n",
       "      <td>7231</td>\n",
       "      <td>0</td>\n",
       "      <td>0</td>\n",
       "      <td>1</td>\n",
       "      <td>Unknown</td>\n",
       "    </tr>\n",
       "    <tr>\n",
       "      <th>10</th>\n",
       "      <td>9351</td>\n",
       "      <td>166</td>\n",
       "      <td>1</td>\n",
       "      <td>5303</td>\n",
       "      <td>7231</td>\n",
       "      <td>0</td>\n",
       "      <td>0</td>\n",
       "      <td>1</td>\n",
       "      <td>Unknown</td>\n",
       "    </tr>\n",
       "    <tr>\n",
       "      <th>20</th>\n",
       "      <td>15590</td>\n",
       "      <td>166</td>\n",
       "      <td>1</td>\n",
       "      <td>5303</td>\n",
       "      <td>7231</td>\n",
       "      <td>0</td>\n",
       "      <td>0</td>\n",
       "      <td>1</td>\n",
       "      <td>Unknown</td>\n",
       "    </tr>\n",
       "    <tr>\n",
       "      <th>66</th>\n",
       "      <td>46161</td>\n",
       "      <td>166</td>\n",
       "      <td>1</td>\n",
       "      <td>5303</td>\n",
       "      <td>7231</td>\n",
       "      <td>0</td>\n",
       "      <td>0</td>\n",
       "      <td>1</td>\n",
       "      <td>Unknown</td>\n",
       "    </tr>\n",
       "    <tr>\n",
       "      <th>69</th>\n",
       "      <td>47528</td>\n",
       "      <td>166</td>\n",
       "      <td>1</td>\n",
       "      <td>5303</td>\n",
       "      <td>7231</td>\n",
       "      <td>0</td>\n",
       "      <td>0</td>\n",
       "      <td>1</td>\n",
       "      <td>Unknown</td>\n",
       "    </tr>\n",
       "  </tbody>\n",
       "</table>\n",
       "</div>"
      ],
      "text/plain": [
       "    user_id  song_id  rating  album_id  artist_id  genre_id  parent_genre  \\\n",
       "3      3748      166       1      5303       7231         0             0   \n",
       "10     9351      166       1      5303       7231         0             0   \n",
       "20    15590      166       1      5303       7231         0             0   \n",
       "66    46161      166       1      5303       7231         0             0   \n",
       "69    47528      166       1      5303       7231         0             0   \n",
       "\n",
       "    level genre_name  \n",
       "3       1    Unknown  \n",
       "10      1    Unknown  \n",
       "20      1    Unknown  \n",
       "66      1    Unknown  \n",
       "69      1    Unknown  "
      ]
     },
     "execution_count": 22,
     "metadata": {},
     "output_type": "execute_result"
    }
   ],
   "source": [
    "low = df[df['rating']==1]\n",
    "low.head()"
   ]
  },
  {
   "cell_type": "code",
   "execution_count": 23,
   "id": "6f099d88",
   "metadata": {},
   "outputs": [
    {
     "data": {
      "text/plain": [
       "Lounge                28\n",
       "Indie Pop             36\n",
       "Minimal Techno        98\n",
       "New Wave             122\n",
       "Orchestral           139\n",
       "Hard Rock            188\n",
       "Country Comedy       218\n",
       "Traditional Folk     435\n",
       "Movie Soundtracks    495\n",
       "Early Blues          509\n",
       "Name: genre_name, dtype: int64"
      ]
     },
     "execution_count": 23,
     "metadata": {},
     "output_type": "execute_result"
    }
   ],
   "source": [
    "low['genre_name'].value_counts().sort_values()[:10]"
   ]
  },
  {
   "cell_type": "code",
   "execution_count": 24,
   "id": "3b87bb00",
   "metadata": {},
   "outputs": [
    {
     "data": {
      "text/plain": [
       "Unknown               17571668\n",
       "Rock                   1134954\n",
       "Pop                     454876\n",
       "R&B                     361210\n",
       "Country                 129520\n",
       "Rap                     102721\n",
       "Classic Rock             79843\n",
       "Comedy                   53366\n",
       "Adult Contemporary       18810\n",
       "Reggae                   17180\n",
       "Name: genre_name, dtype: int64"
      ]
     },
     "execution_count": 24,
     "metadata": {},
     "output_type": "execute_result"
    }
   ],
   "source": [
    "low['genre_name'].value_counts().sort_values(ascending=False)[:10]"
   ]
  },
  {
   "cell_type": "code",
   "execution_count": 27,
   "id": "9280a88d",
   "metadata": {},
   "outputs": [
    {
     "data": {
      "text/plain": [
       "array(['Unknown', 'Classic Rock', 'Rock', 'Pop', 'Country', 'R&B',\n",
       "       'Adult Contemporary', 'Easy Listening', 'Shows &amp; Movies',\n",
       "       'Rap', 'Classic R&B', 'Mainstream Pop', 'World', 'Vocal Jazz',\n",
       "       'Reggae', 'Modern Rock', 'R&B Gospel', 'Folk', 'Christmas',\n",
       "       'Adult Alternative', 'Comedy', 'Industrial Rock', 'Blues', 'Disco',\n",
       "       'Alt-Country', 'Religious', 'Jazz', 'Traditional Folk', 'Holiday',\n",
       "       'Speed Metal', 'Death Metal', 'New Age', 'Mainstream Dance',\n",
       "       'Modern Blues', 'Movie Soundtracks', 'Folk-Pop',\n",
       "       'Electronic/Dance', 'Latin', 'Modern R&B', 'Classical', 'Funk',\n",
       "       'Ambient Tech', 'Metal', 'Early Blues', 'Punk', 'Indie Rock',\n",
       "       'New Wave', 'Gospel', 'Indie Pop', 'Pop Metal', 'Soft Pop',\n",
       "       'Techno', 'Vocal Standards', 'Lounge', 'Orchestral',\n",
       "       'Country Comedy', 'Minimal Techno', 'Hard Rock'], dtype=object)"
      ]
     },
     "execution_count": 27,
     "metadata": {},
     "output_type": "execute_result"
    }
   ],
   "source": [
    "df['genre_name'].unique()"
   ]
  },
  {
   "cell_type": "code",
   "execution_count": 29,
   "id": "d070f298",
   "metadata": {},
   "outputs": [
    {
     "data": {
      "text/plain": [
       "5    0.317401\n",
       "1    0.214415\n",
       "4    0.187116\n",
       "3    0.165344\n",
       "2    0.115725\n",
       "Name: rating, dtype: float64"
      ]
     },
     "execution_count": 29,
     "metadata": {},
     "output_type": "execute_result"
    }
   ],
   "source": [
    "df[df['genre_name']=='Rock']['rating'].value_counts(normalize=True)"
   ]
  },
  {
   "cell_type": "code",
   "execution_count": 30,
   "id": "0962c7f7",
   "metadata": {},
   "outputs": [
    {
     "data": {
      "text/plain": [
       "5    0.298852\n",
       "1    0.260711\n",
       "4    0.168896\n",
       "3    0.154209\n",
       "2    0.117332\n",
       "Name: rating, dtype: float64"
      ]
     },
     "execution_count": 30,
     "metadata": {},
     "output_type": "execute_result"
    }
   ],
   "source": [
    "df[df['genre_name']=='Pop']['rating'].value_counts(normalize=True)"
   ]
  },
  {
   "cell_type": "code",
   "execution_count": 31,
   "id": "38f52927",
   "metadata": {},
   "outputs": [
    {
     "data": {
      "text/plain": [
       "5    0.336842\n",
       "1    0.233168\n",
       "4    0.175174\n",
       "3    0.150546\n",
       "2    0.104270\n",
       "Name: rating, dtype: float64"
      ]
     },
     "execution_count": 31,
     "metadata": {},
     "output_type": "execute_result"
    }
   ],
   "source": [
    "df[df['genre_name']=='Punk']['rating'].value_counts(normalize=True)"
   ]
  },
  {
   "cell_type": "markdown",
   "id": "0a271199",
   "metadata": {},
   "source": [
    "After some analysis on ratings across different genres, the data shows that the bigger genres like Pop and Rock which have a higher number of overall ratings, are also ranked with the most number of 5 and 1 ratings as well. This shows that because of the distribution of ratings across genres being unequal, knowing the genre does not indicate whether it will be more likely to get ranked higher or not. This also further affirms the close to 0 correlation coefficient between genre and rating. "
   ]
  },
  {
   "cell_type": "code",
   "execution_count": null,
   "id": "697c5a7f",
   "metadata": {},
   "outputs": [],
   "source": []
  }
 ],
 "metadata": {
  "kernelspec": {
   "display_name": "Python 3",
   "language": "python",
   "name": "python3"
  },
  "language_info": {
   "codemirror_mode": {
    "name": "ipython",
    "version": 3
   },
   "file_extension": ".py",
   "mimetype": "text/x-python",
   "name": "python",
   "nbconvert_exporter": "python",
   "pygments_lexer": "ipython3",
   "version": "3.8.8"
  }
 },
 "nbformat": 4,
 "nbformat_minor": 5
}
